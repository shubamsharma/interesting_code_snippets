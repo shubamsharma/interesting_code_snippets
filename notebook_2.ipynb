{
 "cells": [
  {
   "cell_type": "markdown",
   "id": "099fea62",
   "metadata": {},
   "source": [
    "# Get intervals based on True false combination.\n",
    "\n",
    "Note: Multiple trues will be merged together."
   ]
  },
  {
   "cell_type": "code",
   "execution_count": 3,
   "id": "24547c07",
   "metadata": {},
   "outputs": [
    {
     "data": {
      "text/plain": [
       "([[0, 4], [4, 7], [7, 8], [8, 9], [9, 10]],\n",
       "   interval_data  value\n",
       " 0        (0, 1]   True\n",
       " 1        (1, 2]   True\n",
       " 2        (2, 3]   True\n",
       " 3        (3, 4]  False\n",
       " 4        (4, 5]   True\n",
       " 5        (5, 6]   True\n",
       " 6        (6, 7]  False\n",
       " 7        (7, 8]  False\n",
       " 8        (8, 9]  False\n",
       " 9       (9, 10]  False)"
      ]
     },
     "execution_count": 3,
     "metadata": {},
     "output_type": "execute_result"
    }
   ],
   "source": [
    "import pandas as pd\n",
    "data1 = pd.Interval(0, 1, closed='right')\n",
    "data2 = pd.Interval(1, 2, closed='right')\n",
    "data3 = pd.Interval(2, 3, closed='right')\n",
    "data4 = pd.Interval(3, 4, closed='right')\n",
    "data5 = pd.Interval(4, 5, closed='right')\n",
    "data6 = pd.Interval(5, 6, closed='right')\n",
    "data7 = pd.Interval(6, 7, closed='right')\n",
    "data8 = pd.Interval(7, 8, closed='right')\n",
    "data9 = pd.Interval(8, 9, closed='right')\n",
    "data10 = pd.Interval(9, 10, closed='right')\n",
    "\n",
    "\n",
    "data = {'interval_data' : [data1,data2,data3,data4,data5,data6,data7,data8,data9,data10],\n",
    "\"value\" : [True,True,True,False,True,True,False,False,False,False]}\n",
    "\n",
    "final_data = pd.DataFrame(data)\n",
    "final_data_bk = final_data.copy()\n",
    "\n",
    "final_data['lower'] = final_data.interval_data.apply(lambda x : x.left)\n",
    "final_data['upper'] = final_data.interval_data.apply(lambda x : x.right)\n",
    "\n",
    "min_lower = final_data.lower.min()\n",
    "max_upper = final_data.upper.max()\n",
    "min_lower, max_upper\n",
    "\n",
    "final_data = final_data[final_data.value != True]\n",
    "\n",
    "final_data['upper_shift'] = final_data.upper.shift(1)\n",
    "\n",
    "# final_data['upper_shift'].fillna(final_data.lower.min(),inplace = True)\n",
    "final_data['upper_shift'].fillna(min_lower,inplace = True)\n",
    "final_data['upper_shift'] = final_data['upper_shift'].astype('int')\n",
    "\n",
    "final_data\n",
    "\n",
    "interval_dict = zip(final_data.upper_shift,final_data.upper)\n",
    "\n",
    "final_dict = list()\n",
    "for i,(x,y) in enumerate(interval_dict):\n",
    "    if (i == (final_data.shape[0]-1)) & ( y!= max_upper):\n",
    "        final_dict.append([x,y])\n",
    "        final_dict.append([y,max_upper])\n",
    "    else:\n",
    "        final_dict.append([x,y])\n",
    "final_dict,final_data_bk\n"
   ]
  },
  {
   "cell_type": "code",
   "execution_count": null,
   "id": "5b2ed49a",
   "metadata": {},
   "outputs": [],
   "source": []
  }
 ],
 "metadata": {
  "kernelspec": {
   "display_name": "Python 3",
   "language": "python",
   "name": "python3"
  }
 },
 "nbformat": 4,
 "nbformat_minor": 5
}
